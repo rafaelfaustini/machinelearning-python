{
  "nbformat": 4,
  "nbformat_minor": 0,
  "metadata": {
    "colab": {
      "name": "breast_cancer_ml.ipynb",
      "provenance": [],
      "collapsed_sections": [],
      "authorship_tag": "ABX9TyOJb2fWuyOg2tt2WFR3zU4w",
      "include_colab_link": true
    },
    "kernelspec": {
      "name": "python3",
      "display_name": "Python 3"
    }
  },
  "cells": [
    {
      "cell_type": "markdown",
      "metadata": {
        "id": "view-in-github",
        "colab_type": "text"
      },
      "source": [
        "<a href=\"https://colab.research.google.com/github/rafaelfaustini/machinelearning-python/blob/master/breast_cancer_ml.ipynb\" target=\"_parent\"><img src=\"https://colab.research.google.com/assets/colab-badge.svg\" alt=\"Open In Colab\"/></a>"
      ]
    },
    {
      "cell_type": "code",
      "metadata": {
        "id": "duSt1uhgBEeD",
        "colab_type": "code",
        "colab": {}
      },
      "source": [
        "import pandas as pd\n"
      ],
      "execution_count": 217,
      "outputs": []
    },
    {
      "cell_type": "code",
      "metadata": {
        "id": "FFLGT0rrCN-p",
        "colab_type": "code",
        "colab": {}
      },
      "source": [
        "labels = ['ID','ClumpThickness', 'UniformityofCellSize', 'UniformityofCellShape', 'MarginalAdhesion', 'SingleEpithelialCellSize', 'BareNuclei', 'BlandChromatin', 'NormalNucleoli', 'Mitoses', 'Class']\n",
        "df = pd.read_csv('http://archive.ics.uci.edu/ml/machine-learning-databases/breast-cancer-wisconsin/breast-cancer-wisconsin.data', \n",
        "                 names=labels, header=None)\n",
        "\n",
        "# Limpeza de caracteres não numéricos\n",
        "cols = df.columns[df.dtypes.eq('object')] # Checa valores que não são int e sim object (strings) e cria uma lista\n",
        "for col in cols:\n",
        "  df[col] = pd.to_numeric(df[col], errors='coerce') # Percorro cada um object e transformo em numérico, caso não seja numérico o campo fica com NaN\n",
        "df = df.dropna() # Exclui as linhas com NaN\n"
      ],
      "execution_count": 218,
      "outputs": []
    },
    {
      "cell_type": "code",
      "metadata": {
        "id": "1UEV0IhTDPYK",
        "colab_type": "code",
        "colab": {}
      },
      "source": [
        "x= df.loc[:, 'ClumpThickness':'Mitoses']\n",
        "\n"
      ],
      "execution_count": 219,
      "outputs": []
    },
    {
      "cell_type": "code",
      "metadata": {
        "id": "B0I3Rz34EECN",
        "colab_type": "code",
        "colab": {
          "base_uri": "https://localhost:8080/",
          "height": 119
        },
        "outputId": "35e29542-036d-4c18-a1de-3b0c9b8fbe29"
      },
      "source": [
        "y= df.loc[:, 'Class':'Class']\n",
        "print(y.head())\n",
        "# 2 câncer benigno -> 0\n",
        "# 4 câncer maligno -> 1\n",
        "y = y.replace(to_replace=2, value=0)\n",
        "y = y.replace(to_replace=4, value=1)\n",
        "#print(y)"
      ],
      "execution_count": 220,
      "outputs": [
        {
          "output_type": "stream",
          "text": [
            "   Class\n",
            "0      2\n",
            "1      2\n",
            "2      2\n",
            "3      2\n",
            "4      2\n"
          ],
          "name": "stdout"
        }
      ]
    },
    {
      "cell_type": "code",
      "metadata": {
        "id": "Fk0NbIyc4azW",
        "colab_type": "code",
        "colab": {}
      },
      "source": [
        "from sklearn.model_selection import train_test_split"
      ],
      "execution_count": 221,
      "outputs": []
    },
    {
      "cell_type": "code",
      "metadata": {
        "id": "azlIYRt04fy8",
        "colab_type": "code",
        "colab": {
          "base_uri": "https://localhost:8080/",
          "height": 153
        },
        "outputId": "70cf4465-f9fd-4768-dadd-513dd17a8b56"
      },
      "source": [
        "x_treinamento, x_teste, y_treinamento, y_teste = train_test_split(x,y, test_size=0.25) #Ele pega 25% dos registros para testes por isso 0.25\n",
        "print(x_treinamento.head())"
      ],
      "execution_count": 231,
      "outputs": [
        {
          "output_type": "stream",
          "text": [
            "     ClumpThickness  UniformityofCellSize  ...  NormalNucleoli  Mitoses\n",
            "9                 4                     2  ...               1        1\n",
            "344               7                     6  ...               5        3\n",
            "201              10                     8  ...               1        1\n",
            "486               3                     1  ...               1        1\n",
            "480               5                     1  ...               1        1\n",
            "\n",
            "[5 rows x 9 columns]\n"
          ],
          "name": "stdout"
        }
      ]
    },
    {
      "cell_type": "code",
      "metadata": {
        "id": "9WKLT8La5ZHn",
        "colab_type": "code",
        "colab": {}
      },
      "source": [
        "import keras\n",
        "from keras.models import Sequential\n",
        "from keras.layers import Dense\n",
        "classificador = Sequential()\n",
        "classificador.add(Dense(units=6, activation= 'relu', \n",
        "                        kernel_initializer='random_uniform', input_dim = 9)) # Units: Formula usada (entradas+saida)/2 -> (10+1)/2 -> 5.5 ~= 6 | Input_Dim: Número de previsores de entrada\n",
        "classificador.add(Dense(units=1, activation= 'sigmoid'))"
      ],
      "execution_count": 233,
      "outputs": []
    },
    {
      "cell_type": "code",
      "metadata": {
        "id": "C6cQeRVt8XL7",
        "colab_type": "code",
        "colab": {
          "base_uri": "https://localhost:8080/",
          "height": 1000
        },
        "outputId": "ded14001-a069-4b04-af1e-d36cdafe3b7b"
      },
      "source": [
        "classificador.compile(optimizer= 'adam', loss='binary_crossentropy',\n",
        "                      metrics = ['binary_accuracy'])\n",
        "classificador.fit(x_treinamento, y_treinamento, batch_size=10, epochs=100) # batch_size:calcula de 10, calcula os pesos, calcula mais 10 e calcula os pesos...."
      ],
      "execution_count": 235,
      "outputs": [
        {
          "output_type": "stream",
          "text": [
            "Epoch 1/100\n",
            "512/512 [==============================] - 0s 304us/step - loss: 0.0730 - binary_accuracy: 0.9746\n",
            "Epoch 2/100\n",
            "512/512 [==============================] - 0s 123us/step - loss: 0.0707 - binary_accuracy: 0.9766\n",
            "Epoch 3/100\n",
            "512/512 [==============================] - 0s 108us/step - loss: 0.0710 - binary_accuracy: 0.9785\n",
            "Epoch 4/100\n",
            "512/512 [==============================] - 0s 100us/step - loss: 0.0712 - binary_accuracy: 0.9766\n",
            "Epoch 5/100\n",
            "512/512 [==============================] - 0s 120us/step - loss: 0.0715 - binary_accuracy: 0.9766\n",
            "Epoch 6/100\n",
            "512/512 [==============================] - 0s 102us/step - loss: 0.0730 - binary_accuracy: 0.9766\n",
            "Epoch 7/100\n",
            "512/512 [==============================] - 0s 97us/step - loss: 0.0713 - binary_accuracy: 0.9746\n",
            "Epoch 8/100\n",
            "512/512 [==============================] - 0s 96us/step - loss: 0.0710 - binary_accuracy: 0.9766\n",
            "Epoch 9/100\n",
            "512/512 [==============================] - 0s 98us/step - loss: 0.0718 - binary_accuracy: 0.9746\n",
            "Epoch 10/100\n",
            "512/512 [==============================] - 0s 103us/step - loss: 0.0720 - binary_accuracy: 0.9746\n",
            "Epoch 11/100\n",
            "512/512 [==============================] - 0s 99us/step - loss: 0.0722 - binary_accuracy: 0.9746\n",
            "Epoch 12/100\n",
            "512/512 [==============================] - 0s 100us/step - loss: 0.0761 - binary_accuracy: 0.9668\n",
            "Epoch 13/100\n",
            "512/512 [==============================] - 0s 99us/step - loss: 0.0695 - binary_accuracy: 0.9766\n",
            "Epoch 14/100\n",
            "512/512 [==============================] - 0s 106us/step - loss: 0.0691 - binary_accuracy: 0.9766\n",
            "Epoch 15/100\n",
            "512/512 [==============================] - 0s 100us/step - loss: 0.0698 - binary_accuracy: 0.9785\n",
            "Epoch 16/100\n",
            "512/512 [==============================] - 0s 98us/step - loss: 0.0695 - binary_accuracy: 0.9785\n",
            "Epoch 17/100\n",
            "512/512 [==============================] - 0s 97us/step - loss: 0.0695 - binary_accuracy: 0.9746\n",
            "Epoch 18/100\n",
            "512/512 [==============================] - 0s 101us/step - loss: 0.0693 - binary_accuracy: 0.9746\n",
            "Epoch 19/100\n",
            "512/512 [==============================] - 0s 97us/step - loss: 0.0709 - binary_accuracy: 0.9785\n",
            "Epoch 20/100\n",
            "512/512 [==============================] - 0s 107us/step - loss: 0.0691 - binary_accuracy: 0.9766\n",
            "Epoch 21/100\n",
            "512/512 [==============================] - 0s 98us/step - loss: 0.0696 - binary_accuracy: 0.9785\n",
            "Epoch 22/100\n",
            "512/512 [==============================] - 0s 101us/step - loss: 0.0686 - binary_accuracy: 0.9785\n",
            "Epoch 23/100\n",
            "512/512 [==============================] - 0s 120us/step - loss: 0.0695 - binary_accuracy: 0.9785\n",
            "Epoch 24/100\n",
            "512/512 [==============================] - 0s 134us/step - loss: 0.0688 - binary_accuracy: 0.9746\n",
            "Epoch 25/100\n",
            "512/512 [==============================] - 0s 106us/step - loss: 0.0693 - binary_accuracy: 0.9785\n",
            "Epoch 26/100\n",
            "512/512 [==============================] - 0s 98us/step - loss: 0.0730 - binary_accuracy: 0.9707\n",
            "Epoch 27/100\n",
            "512/512 [==============================] - 0s 98us/step - loss: 0.0681 - binary_accuracy: 0.9785\n",
            "Epoch 28/100\n",
            "512/512 [==============================] - 0s 98us/step - loss: 0.0688 - binary_accuracy: 0.9746\n",
            "Epoch 29/100\n",
            "512/512 [==============================] - 0s 108us/step - loss: 0.0689 - binary_accuracy: 0.9805\n",
            "Epoch 30/100\n",
            "512/512 [==============================] - 0s 121us/step - loss: 0.0682 - binary_accuracy: 0.9785\n",
            "Epoch 31/100\n",
            "512/512 [==============================] - 0s 107us/step - loss: 0.0676 - binary_accuracy: 0.9785\n",
            "Epoch 32/100\n",
            "512/512 [==============================] - 0s 99us/step - loss: 0.0678 - binary_accuracy: 0.9746\n",
            "Epoch 33/100\n",
            "512/512 [==============================] - 0s 111us/step - loss: 0.0684 - binary_accuracy: 0.9805\n",
            "Epoch 34/100\n",
            "512/512 [==============================] - 0s 101us/step - loss: 0.0695 - binary_accuracy: 0.9766\n",
            "Epoch 35/100\n",
            "512/512 [==============================] - 0s 100us/step - loss: 0.0683 - binary_accuracy: 0.9746\n",
            "Epoch 36/100\n",
            "512/512 [==============================] - 0s 96us/step - loss: 0.0673 - binary_accuracy: 0.9766\n",
            "Epoch 37/100\n",
            "512/512 [==============================] - 0s 115us/step - loss: 0.0671 - binary_accuracy: 0.9805\n",
            "Epoch 38/100\n",
            "512/512 [==============================] - 0s 126us/step - loss: 0.0669 - binary_accuracy: 0.9805\n",
            "Epoch 39/100\n",
            "512/512 [==============================] - 0s 101us/step - loss: 0.0671 - binary_accuracy: 0.9805\n",
            "Epoch 40/100\n",
            "512/512 [==============================] - 0s 119us/step - loss: 0.0671 - binary_accuracy: 0.9766\n",
            "Epoch 41/100\n",
            "512/512 [==============================] - 0s 102us/step - loss: 0.0667 - binary_accuracy: 0.9824\n",
            "Epoch 42/100\n",
            "512/512 [==============================] - 0s 115us/step - loss: 0.0676 - binary_accuracy: 0.9746\n",
            "Epoch 43/100\n",
            "512/512 [==============================] - 0s 111us/step - loss: 0.0673 - binary_accuracy: 0.9805\n",
            "Epoch 44/100\n",
            "512/512 [==============================] - 0s 116us/step - loss: 0.0669 - binary_accuracy: 0.9766\n",
            "Epoch 45/100\n",
            "512/512 [==============================] - 0s 104us/step - loss: 0.0675 - binary_accuracy: 0.9805\n",
            "Epoch 46/100\n",
            "512/512 [==============================] - 0s 112us/step - loss: 0.0665 - binary_accuracy: 0.9746\n",
            "Epoch 47/100\n",
            "512/512 [==============================] - 0s 113us/step - loss: 0.0662 - binary_accuracy: 0.9766\n",
            "Epoch 48/100\n",
            "512/512 [==============================] - 0s 99us/step - loss: 0.0673 - binary_accuracy: 0.9766\n",
            "Epoch 49/100\n",
            "512/512 [==============================] - 0s 126us/step - loss: 0.0670 - binary_accuracy: 0.9805\n",
            "Epoch 50/100\n",
            "512/512 [==============================] - 0s 126us/step - loss: 0.0677 - binary_accuracy: 0.9805\n",
            "Epoch 51/100\n",
            "512/512 [==============================] - 0s 124us/step - loss: 0.0658 - binary_accuracy: 0.9844\n",
            "Epoch 52/100\n",
            "512/512 [==============================] - 0s 121us/step - loss: 0.0662 - binary_accuracy: 0.9785\n",
            "Epoch 53/100\n",
            "512/512 [==============================] - 0s 123us/step - loss: 0.0661 - binary_accuracy: 0.9766\n",
            "Epoch 54/100\n",
            "512/512 [==============================] - 0s 142us/step - loss: 0.0659 - binary_accuracy: 0.9785\n",
            "Epoch 55/100\n",
            "512/512 [==============================] - 0s 101us/step - loss: 0.0658 - binary_accuracy: 0.9805\n",
            "Epoch 56/100\n",
            "512/512 [==============================] - 0s 102us/step - loss: 0.0658 - binary_accuracy: 0.9805\n",
            "Epoch 57/100\n",
            "512/512 [==============================] - 0s 114us/step - loss: 0.0649 - binary_accuracy: 0.9824\n",
            "Epoch 58/100\n",
            "512/512 [==============================] - 0s 120us/step - loss: 0.0673 - binary_accuracy: 0.9785\n",
            "Epoch 59/100\n",
            "512/512 [==============================] - 0s 100us/step - loss: 0.0667 - binary_accuracy: 0.9785\n",
            "Epoch 60/100\n",
            "512/512 [==============================] - 0s 112us/step - loss: 0.0653 - binary_accuracy: 0.9805\n",
            "Epoch 61/100\n",
            "512/512 [==============================] - 0s 101us/step - loss: 0.0651 - binary_accuracy: 0.9766\n",
            "Epoch 62/100\n",
            "512/512 [==============================] - 0s 116us/step - loss: 0.0656 - binary_accuracy: 0.9805\n",
            "Epoch 63/100\n",
            "512/512 [==============================] - 0s 118us/step - loss: 0.0661 - binary_accuracy: 0.9766\n",
            "Epoch 64/100\n",
            "512/512 [==============================] - 0s 108us/step - loss: 0.0650 - binary_accuracy: 0.9805\n",
            "Epoch 65/100\n",
            "512/512 [==============================] - 0s 110us/step - loss: 0.0650 - binary_accuracy: 0.9805\n",
            "Epoch 66/100\n",
            "512/512 [==============================] - 0s 108us/step - loss: 0.0652 - binary_accuracy: 0.9824\n",
            "Epoch 67/100\n",
            "512/512 [==============================] - 0s 102us/step - loss: 0.0650 - binary_accuracy: 0.9785\n",
            "Epoch 68/100\n",
            "512/512 [==============================] - 0s 100us/step - loss: 0.0648 - binary_accuracy: 0.9766\n",
            "Epoch 69/100\n",
            "512/512 [==============================] - 0s 99us/step - loss: 0.0673 - binary_accuracy: 0.9746\n",
            "Epoch 70/100\n",
            "512/512 [==============================] - 0s 101us/step - loss: 0.0643 - binary_accuracy: 0.9805\n",
            "Epoch 71/100\n",
            "512/512 [==============================] - 0s 103us/step - loss: 0.0647 - binary_accuracy: 0.9805\n",
            "Epoch 72/100\n",
            "512/512 [==============================] - 0s 117us/step - loss: 0.0644 - binary_accuracy: 0.9824\n",
            "Epoch 73/100\n",
            "512/512 [==============================] - 0s 98us/step - loss: 0.0641 - binary_accuracy: 0.9805\n",
            "Epoch 74/100\n",
            "512/512 [==============================] - 0s 106us/step - loss: 0.0640 - binary_accuracy: 0.9824\n",
            "Epoch 75/100\n",
            "512/512 [==============================] - 0s 119us/step - loss: 0.0669 - binary_accuracy: 0.9785\n",
            "Epoch 76/100\n",
            "512/512 [==============================] - 0s 116us/step - loss: 0.0653 - binary_accuracy: 0.9766\n",
            "Epoch 77/100\n",
            "512/512 [==============================] - 0s 101us/step - loss: 0.0638 - binary_accuracy: 0.9824\n",
            "Epoch 78/100\n",
            "512/512 [==============================] - 0s 105us/step - loss: 0.0634 - binary_accuracy: 0.9785\n",
            "Epoch 79/100\n",
            "512/512 [==============================] - 0s 101us/step - loss: 0.0630 - binary_accuracy: 0.9805\n",
            "Epoch 80/100\n",
            "512/512 [==============================] - 0s 104us/step - loss: 0.0646 - binary_accuracy: 0.9785\n",
            "Epoch 81/100\n",
            "512/512 [==============================] - 0s 119us/step - loss: 0.0634 - binary_accuracy: 0.9824\n",
            "Epoch 82/100\n",
            "512/512 [==============================] - 0s 111us/step - loss: 0.0657 - binary_accuracy: 0.9805\n",
            "Epoch 83/100\n",
            "512/512 [==============================] - 0s 101us/step - loss: 0.0639 - binary_accuracy: 0.9766\n",
            "Epoch 84/100\n",
            "512/512 [==============================] - 0s 105us/step - loss: 0.0644 - binary_accuracy: 0.9824\n",
            "Epoch 85/100\n",
            "512/512 [==============================] - 0s 106us/step - loss: 0.0638 - binary_accuracy: 0.9805\n",
            "Epoch 86/100\n",
            "512/512 [==============================] - 0s 131us/step - loss: 0.0645 - binary_accuracy: 0.9844\n",
            "Epoch 87/100\n",
            "512/512 [==============================] - 0s 112us/step - loss: 0.0675 - binary_accuracy: 0.9766\n",
            "Epoch 88/100\n",
            "512/512 [==============================] - 0s 101us/step - loss: 0.0642 - binary_accuracy: 0.9824\n",
            "Epoch 89/100\n",
            "512/512 [==============================] - 0s 103us/step - loss: 0.0651 - binary_accuracy: 0.9727\n",
            "Epoch 90/100\n",
            "512/512 [==============================] - 0s 113us/step - loss: 0.0639 - binary_accuracy: 0.9805\n",
            "Epoch 91/100\n",
            "512/512 [==============================] - 0s 116us/step - loss: 0.0636 - binary_accuracy: 0.9824\n",
            "Epoch 92/100\n",
            "512/512 [==============================] - 0s 124us/step - loss: 0.0626 - binary_accuracy: 0.9824\n",
            "Epoch 93/100\n",
            "512/512 [==============================] - 0s 101us/step - loss: 0.0629 - binary_accuracy: 0.9805\n",
            "Epoch 94/100\n",
            "512/512 [==============================] - 0s 120us/step - loss: 0.0624 - binary_accuracy: 0.9824\n",
            "Epoch 95/100\n",
            "512/512 [==============================] - 0s 110us/step - loss: 0.0642 - binary_accuracy: 0.9824\n",
            "Epoch 96/100\n",
            "512/512 [==============================] - 0s 107us/step - loss: 0.0622 - binary_accuracy: 0.9824\n",
            "Epoch 97/100\n",
            "512/512 [==============================] - 0s 105us/step - loss: 0.0631 - binary_accuracy: 0.9824\n",
            "Epoch 98/100\n",
            "512/512 [==============================] - 0s 115us/step - loss: 0.0626 - binary_accuracy: 0.9805\n",
            "Epoch 99/100\n",
            "512/512 [==============================] - 0s 104us/step - loss: 0.0623 - binary_accuracy: 0.9824\n",
            "Epoch 100/100\n",
            "512/512 [==============================] - 0s 108us/step - loss: 0.0625 - binary_accuracy: 0.9824\n"
          ],
          "name": "stdout"
        },
        {
          "output_type": "execute_result",
          "data": {
            "text/plain": [
              "<keras.callbacks.callbacks.History at 0x7fe698e73e10>"
            ]
          },
          "metadata": {
            "tags": []
          },
          "execution_count": 235
        }
      ]
    },
    {
      "cell_type": "code",
      "metadata": {
        "id": "xzqGuxvUWCnA",
        "colab_type": "code",
        "colab": {
          "base_uri": "https://localhost:8080/",
          "height": 85
        },
        "outputId": "d22b0c65-0c5b-4a3e-8491-d2ed99937874"
      },
      "source": [
        "\n",
        "previsoes = classificador.predict(x_teste)\n",
        "previsoes = (previsoes > 0.5)\n",
        "from sklearn.metrics import confusion_matrix, accuracy_score\n",
        "acuraciaSklearn = accuracy_score(y_teste, previsoes)\n",
        "matrix = confusion_matrix(y_teste, previsoes)\n",
        "print(matrix) # (0,0) Benignos classificados como 0; [Correto](0,1)Benignos Classificados como 1; [Errado](1,0) Malignos classificados como 0; [Errado](0,1) Malignos classificados como 1 [Correto];\n",
        "\n",
        "acuraciaKeras = classificador.evaluate(x_teste, y_teste)\n",
        "print(\"Acuracias - Keras: {0} %, SkLearn {1} %\".format(acuracia*100, resultado[1]*100))\n"
      ],
      "execution_count": 251,
      "outputs": [
        {
          "output_type": "stream",
          "text": [
            "[[101   2]\n",
            " [  2  66]]\n",
            "171/171 [==============================] - 0s 57us/step\n",
            "Acuracias - Keras: 97.6608187134503 %, SkLearn 97.66082167625427 %\n"
          ],
          "name": "stdout"
        }
      ]
    }
  ]
}