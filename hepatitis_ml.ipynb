{
  "nbformat": 4,
  "nbformat_minor": 0,
  "metadata": {
    "colab": {
      "name": "hepatitis_ml",
      "provenance": [],
      "collapsed_sections": [
        "TLLSHyfq-uLY",
        "SBVWfP4D-bh7",
        "ZEFq1TIVDrgm"
      ],
      "authorship_tag": "ABX9TyOKiH6fYUjKnogueC+yG5U/",
      "include_colab_link": true
    },
    "kernelspec": {
      "name": "python3",
      "display_name": "Python 3"
    }
  },
  "cells": [
    {
      "cell_type": "markdown",
      "metadata": {
        "id": "view-in-github",
        "colab_type": "text"
      },
      "source": [
        "<a href=\"https://colab.research.google.com/github/rafaelfaustini/machinelearning-python/blob/master/hepatitis_ml.ipynb\" target=\"_parent\"><img src=\"https://colab.research.google.com/assets/colab-badge.svg\" alt=\"Open In Colab\"/></a>"
      ]
    },
    {
      "cell_type": "markdown",
      "metadata": {
        "id": "cp_Gc20R4qTd",
        "colab_type": "text"
      },
      "source": [
        "## 1. Tratamento de dados\n"
      ]
    },
    {
      "cell_type": "markdown",
      "metadata": {
        "id": "TLLSHyfq-uLY",
        "colab_type": "text"
      },
      "source": [
        "### Importação dos dados usando o pandas e colocada suas labels"
      ]
    },
    {
      "cell_type": "code",
      "metadata": {
        "id": "4weJlqU2B2ih",
        "colab_type": "code",
        "colab": {
          "base_uri": "https://localhost:8080/",
          "height": 433
        },
        "outputId": "1081e87d-f4c0-4939-883a-74ce8bdc6c82"
      },
      "source": [
        "import pandas as pd\n",
        "\n",
        "url = 'http://archive.ics.uci.edu/ml/machine-learning-databases/hepatitis/hepatitis.data'\n",
        "labels = ['Class', 'Age', 'Sex', 'Steroid', 'Antivirals', 'Fatigue', 'Malaise', 'Anorexia', 'LiverBig', 'LiverFirm', 'SpleenPalpable', 'Spiders', 'Ascites','Varices','Bilirubin','AlkPhosphate','Sgot', 'Albumin', 'Protime', 'Histology']\n",
        "df = pd.read_csv(url, \n",
        "                 names=labels, header=None)\n",
        "print(df.head())\n",
        "df.describe()"
      ],
      "execution_count": null,
      "outputs": [
        {
          "output_type": "stream",
          "text": [
            "   Class  Age  Sex Steroid  ...  Sgot Albumin Protime Histology\n",
            "0      2   30    2       1  ...    18     4.0       ?         1\n",
            "1      2   50    1       1  ...    42     3.5       ?         1\n",
            "2      2   78    1       2  ...    32     4.0       ?         1\n",
            "3      2   31    1       ?  ...    52     4.0      80         1\n",
            "4      2   34    1       2  ...   200     4.0       ?         1\n",
            "\n",
            "[5 rows x 20 columns]\n"
          ],
          "name": "stdout"
        },
        {
          "output_type": "execute_result",
          "data": {
            "text/html": [
              "<div>\n",
              "<style scoped>\n",
              "    .dataframe tbody tr th:only-of-type {\n",
              "        vertical-align: middle;\n",
              "    }\n",
              "\n",
              "    .dataframe tbody tr th {\n",
              "        vertical-align: top;\n",
              "    }\n",
              "\n",
              "    .dataframe thead th {\n",
              "        text-align: right;\n",
              "    }\n",
              "</style>\n",
              "<table border=\"1\" class=\"dataframe\">\n",
              "  <thead>\n",
              "    <tr style=\"text-align: right;\">\n",
              "      <th></th>\n",
              "      <th>Class</th>\n",
              "      <th>Age</th>\n",
              "      <th>Sex</th>\n",
              "      <th>Antivirals</th>\n",
              "      <th>Histology</th>\n",
              "    </tr>\n",
              "  </thead>\n",
              "  <tbody>\n",
              "    <tr>\n",
              "      <th>count</th>\n",
              "      <td>155.000000</td>\n",
              "      <td>155.000000</td>\n",
              "      <td>155.000000</td>\n",
              "      <td>155.000000</td>\n",
              "      <td>155.000000</td>\n",
              "    </tr>\n",
              "    <tr>\n",
              "      <th>mean</th>\n",
              "      <td>1.793548</td>\n",
              "      <td>41.200000</td>\n",
              "      <td>1.103226</td>\n",
              "      <td>1.845161</td>\n",
              "      <td>1.451613</td>\n",
              "    </tr>\n",
              "    <tr>\n",
              "      <th>std</th>\n",
              "      <td>0.406070</td>\n",
              "      <td>12.565878</td>\n",
              "      <td>0.305240</td>\n",
              "      <td>0.362923</td>\n",
              "      <td>0.499266</td>\n",
              "    </tr>\n",
              "    <tr>\n",
              "      <th>min</th>\n",
              "      <td>1.000000</td>\n",
              "      <td>7.000000</td>\n",
              "      <td>1.000000</td>\n",
              "      <td>1.000000</td>\n",
              "      <td>1.000000</td>\n",
              "    </tr>\n",
              "    <tr>\n",
              "      <th>25%</th>\n",
              "      <td>2.000000</td>\n",
              "      <td>32.000000</td>\n",
              "      <td>1.000000</td>\n",
              "      <td>2.000000</td>\n",
              "      <td>1.000000</td>\n",
              "    </tr>\n",
              "    <tr>\n",
              "      <th>50%</th>\n",
              "      <td>2.000000</td>\n",
              "      <td>39.000000</td>\n",
              "      <td>1.000000</td>\n",
              "      <td>2.000000</td>\n",
              "      <td>1.000000</td>\n",
              "    </tr>\n",
              "    <tr>\n",
              "      <th>75%</th>\n",
              "      <td>2.000000</td>\n",
              "      <td>50.000000</td>\n",
              "      <td>1.000000</td>\n",
              "      <td>2.000000</td>\n",
              "      <td>2.000000</td>\n",
              "    </tr>\n",
              "    <tr>\n",
              "      <th>max</th>\n",
              "      <td>2.000000</td>\n",
              "      <td>78.000000</td>\n",
              "      <td>2.000000</td>\n",
              "      <td>2.000000</td>\n",
              "      <td>2.000000</td>\n",
              "    </tr>\n",
              "  </tbody>\n",
              "</table>\n",
              "</div>"
            ],
            "text/plain": [
              "            Class         Age         Sex  Antivirals   Histology\n",
              "count  155.000000  155.000000  155.000000  155.000000  155.000000\n",
              "mean     1.793548   41.200000    1.103226    1.845161    1.451613\n",
              "std      0.406070   12.565878    0.305240    0.362923    0.499266\n",
              "min      1.000000    7.000000    1.000000    1.000000    1.000000\n",
              "25%      2.000000   32.000000    1.000000    2.000000    1.000000\n",
              "50%      2.000000   39.000000    1.000000    2.000000    1.000000\n",
              "75%      2.000000   50.000000    1.000000    2.000000    2.000000\n",
              "max      2.000000   78.000000    2.000000    2.000000    2.000000"
            ]
          },
          "metadata": {
            "tags": []
          },
          "execution_count": 88
        }
      ]
    },
    {
      "cell_type": "markdown",
      "metadata": {
        "id": "SBVWfP4D-bh7",
        "colab_type": "text"
      },
      "source": [
        "### Tratamento dos não preenchidos, representados com [?]\n",
        "\n"
      ]
    },
    {
      "cell_type": "markdown",
      "metadata": {
        "id": "mFZgvWYCADyN",
        "colab_type": "text"
      },
      "source": [
        "Checo os valores que não são int e sim object (strings) e crio uma lista"
      ]
    },
    {
      "cell_type": "code",
      "metadata": {
        "id": "uWHdxVh9AKCW",
        "colab_type": "code",
        "colab": {}
      },
      "source": [
        "cols = df.columns[df.dtypes.eq('object')]"
      ],
      "execution_count": null,
      "outputs": []
    },
    {
      "cell_type": "markdown",
      "metadata": {
        "id": "cX64tug6A4un",
        "colab_type": "text"
      },
      "source": [
        "Percorro cada um object e transformo em numérico, caso não seja numérico o campo fica com NaN\n",
        "<br>\n",
        "Assim que é preenchido com NaN eu checo se a coluna é de inteiros caso positivo, eu faço um round para inteiro da média da coluna, caso seja um float eu preencho o NaN com a média\n",
        "\n"
      ]
    },
    {
      "cell_type": "code",
      "metadata": {
        "id": "0_JVpbVp-dhB",
        "colab_type": "code",
        "colab": {
          "base_uri": "https://localhost:8080/",
          "height": 272
        },
        "outputId": "152f9ff9-bd20-4e1e-d637-110418f0c906"
      },
      "source": [
        "\n",
        "for col in cols:\n",
        "  df[col] = pd.to_numeric(df[col], errors='coerce')\n",
        "  if df[col].dtypes == 'int64':\n",
        "    avg = round(df[col].mean())\n",
        "    df[col] = df[col].fillna(avg)\n",
        "  else:\n",
        "    avg = df[col].mean()\n",
        "    df[col] = df[col].fillna(avg)\n",
        "  print(f\"Média: {avg} | {df[col].dtypes}\")\n",
        "\n"
      ],
      "execution_count": null,
      "outputs": [
        {
          "output_type": "stream",
          "text": [
            "Média: 1.5064935064935066 | float64\n",
            "Média: 1.3506493506493507 | float64\n",
            "Média: 1.603896103896104 | float64\n",
            "Média: 1.7922077922077921 | float64\n",
            "Média: 1.8275862068965518 | float64\n",
            "Média: 1.5833333333333333 | float64\n",
            "Média: 1.8 | float64\n",
            "Média: 1.66 | float64\n",
            "Média: 1.8666666666666667 | float64\n",
            "Média: 1.88 | float64\n",
            "Média: 1.4275167785234895 | float64\n",
            "Média: 105.32539682539682 | float64\n",
            "Média: 85.89403973509934 | float64\n",
            "Média: 3.8172661870503592 | float64\n",
            "Média: 61.85227272727273 | float64\n"
          ],
          "name": "stdout"
        }
      ]
    },
    {
      "cell_type": "code",
      "metadata": {
        "id": "ViMA0tDCBSXw",
        "colab_type": "code",
        "colab": {
          "base_uri": "https://localhost:8080/",
          "height": 810
        },
        "outputId": "7bd6cebf-d1a4-4d97-f8e0-d7d7886d2cd1"
      },
      "source": [
        "print(df.head())\n",
        "print(df.dtypes)\n",
        "df.describe()"
      ],
      "execution_count": null,
      "outputs": [
        {
          "output_type": "stream",
          "text": [
            "   Class  Age  Sex   Steroid  ...   Sgot  Albumin    Protime  Histology\n",
            "0      2   30    2  1.000000  ...   18.0      4.0  61.852273          1\n",
            "1      2   50    1  1.000000  ...   42.0      3.5  61.852273          1\n",
            "2      2   78    1  2.000000  ...   32.0      4.0  61.852273          1\n",
            "3      2   31    1  1.506494  ...   52.0      4.0  80.000000          1\n",
            "4      2   34    1  2.000000  ...  200.0      4.0  61.852273          1\n",
            "\n",
            "[5 rows x 20 columns]\n",
            "Class               int64\n",
            "Age                 int64\n",
            "Sex                 int64\n",
            "Steroid           float64\n",
            "Antivirals          int64\n",
            "Fatigue           float64\n",
            "Malaise           float64\n",
            "Anorexia          float64\n",
            "LiverBig          float64\n",
            "LiverFirm         float64\n",
            "SpleenPalpable    float64\n",
            "Spiders           float64\n",
            "Ascites           float64\n",
            "Varices           float64\n",
            "Bilirubin         float64\n",
            "AlkPhosphate      float64\n",
            "Sgot              float64\n",
            "Albumin           float64\n",
            "Protime           float64\n",
            "Histology           int64\n",
            "dtype: object\n"
          ],
          "name": "stdout"
        },
        {
          "output_type": "execute_result",
          "data": {
            "text/html": [
              "<div>\n",
              "<style scoped>\n",
              "    .dataframe tbody tr th:only-of-type {\n",
              "        vertical-align: middle;\n",
              "    }\n",
              "\n",
              "    .dataframe tbody tr th {\n",
              "        vertical-align: top;\n",
              "    }\n",
              "\n",
              "    .dataframe thead th {\n",
              "        text-align: right;\n",
              "    }\n",
              "</style>\n",
              "<table border=\"1\" class=\"dataframe\">\n",
              "  <thead>\n",
              "    <tr style=\"text-align: right;\">\n",
              "      <th></th>\n",
              "      <th>Class</th>\n",
              "      <th>Age</th>\n",
              "      <th>Sex</th>\n",
              "      <th>Steroid</th>\n",
              "      <th>Antivirals</th>\n",
              "      <th>Fatigue</th>\n",
              "      <th>Malaise</th>\n",
              "      <th>Anorexia</th>\n",
              "      <th>LiverBig</th>\n",
              "      <th>LiverFirm</th>\n",
              "      <th>SpleenPalpable</th>\n",
              "      <th>Spiders</th>\n",
              "      <th>Ascites</th>\n",
              "      <th>Varices</th>\n",
              "      <th>Bilirubin</th>\n",
              "      <th>AlkPhosphate</th>\n",
              "      <th>Sgot</th>\n",
              "      <th>Albumin</th>\n",
              "      <th>Protime</th>\n",
              "      <th>Histology</th>\n",
              "    </tr>\n",
              "  </thead>\n",
              "  <tbody>\n",
              "    <tr>\n",
              "      <th>count</th>\n",
              "      <td>155.000000</td>\n",
              "      <td>155.000000</td>\n",
              "      <td>155.000000</td>\n",
              "      <td>155.000000</td>\n",
              "      <td>155.000000</td>\n",
              "      <td>155.000000</td>\n",
              "      <td>155.000000</td>\n",
              "      <td>155.000000</td>\n",
              "      <td>155.000000</td>\n",
              "      <td>155.000000</td>\n",
              "      <td>155.000000</td>\n",
              "      <td>155.000000</td>\n",
              "      <td>155.000000</td>\n",
              "      <td>155.000000</td>\n",
              "      <td>155.000000</td>\n",
              "      <td>155.000000</td>\n",
              "      <td>155.000000</td>\n",
              "      <td>155.000000</td>\n",
              "      <td>155.000000</td>\n",
              "      <td>155.000000</td>\n",
              "    </tr>\n",
              "    <tr>\n",
              "      <th>mean</th>\n",
              "      <td>1.793548</td>\n",
              "      <td>41.200000</td>\n",
              "      <td>1.103226</td>\n",
              "      <td>1.506494</td>\n",
              "      <td>1.845161</td>\n",
              "      <td>1.350649</td>\n",
              "      <td>1.603896</td>\n",
              "      <td>1.792208</td>\n",
              "      <td>1.827586</td>\n",
              "      <td>1.583333</td>\n",
              "      <td>1.800000</td>\n",
              "      <td>1.660000</td>\n",
              "      <td>1.866667</td>\n",
              "      <td>1.880000</td>\n",
              "      <td>1.427517</td>\n",
              "      <td>105.325397</td>\n",
              "      <td>85.894040</td>\n",
              "      <td>3.817266</td>\n",
              "      <td>61.852273</td>\n",
              "      <td>1.451613</td>\n",
              "    </tr>\n",
              "    <tr>\n",
              "      <th>std</th>\n",
              "      <td>0.406070</td>\n",
              "      <td>12.565878</td>\n",
              "      <td>0.305240</td>\n",
              "      <td>0.499958</td>\n",
              "      <td>0.362923</td>\n",
              "      <td>0.477173</td>\n",
              "      <td>0.489086</td>\n",
              "      <td>0.405727</td>\n",
              "      <td>0.366536</td>\n",
              "      <td>0.476731</td>\n",
              "      <td>0.394771</td>\n",
              "      <td>0.467516</td>\n",
              "      <td>0.335491</td>\n",
              "      <td>0.320713</td>\n",
              "      <td>1.188301</td>\n",
              "      <td>46.405585</td>\n",
              "      <td>88.478932</td>\n",
              "      <td>0.616750</td>\n",
              "      <td>17.193528</td>\n",
              "      <td>0.499266</td>\n",
              "    </tr>\n",
              "    <tr>\n",
              "      <th>min</th>\n",
              "      <td>1.000000</td>\n",
              "      <td>7.000000</td>\n",
              "      <td>1.000000</td>\n",
              "      <td>1.000000</td>\n",
              "      <td>1.000000</td>\n",
              "      <td>1.000000</td>\n",
              "      <td>1.000000</td>\n",
              "      <td>1.000000</td>\n",
              "      <td>1.000000</td>\n",
              "      <td>1.000000</td>\n",
              "      <td>1.000000</td>\n",
              "      <td>1.000000</td>\n",
              "      <td>1.000000</td>\n",
              "      <td>1.000000</td>\n",
              "      <td>0.300000</td>\n",
              "      <td>26.000000</td>\n",
              "      <td>14.000000</td>\n",
              "      <td>2.100000</td>\n",
              "      <td>0.000000</td>\n",
              "      <td>1.000000</td>\n",
              "    </tr>\n",
              "    <tr>\n",
              "      <th>25%</th>\n",
              "      <td>2.000000</td>\n",
              "      <td>32.000000</td>\n",
              "      <td>1.000000</td>\n",
              "      <td>1.000000</td>\n",
              "      <td>2.000000</td>\n",
              "      <td>1.000000</td>\n",
              "      <td>1.000000</td>\n",
              "      <td>2.000000</td>\n",
              "      <td>2.000000</td>\n",
              "      <td>1.000000</td>\n",
              "      <td>2.000000</td>\n",
              "      <td>1.000000</td>\n",
              "      <td>2.000000</td>\n",
              "      <td>2.000000</td>\n",
              "      <td>0.800000</td>\n",
              "      <td>78.000000</td>\n",
              "      <td>32.500000</td>\n",
              "      <td>3.500000</td>\n",
              "      <td>57.000000</td>\n",
              "      <td>1.000000</td>\n",
              "    </tr>\n",
              "    <tr>\n",
              "      <th>50%</th>\n",
              "      <td>2.000000</td>\n",
              "      <td>39.000000</td>\n",
              "      <td>1.000000</td>\n",
              "      <td>2.000000</td>\n",
              "      <td>2.000000</td>\n",
              "      <td>1.000000</td>\n",
              "      <td>2.000000</td>\n",
              "      <td>2.000000</td>\n",
              "      <td>2.000000</td>\n",
              "      <td>2.000000</td>\n",
              "      <td>2.000000</td>\n",
              "      <td>2.000000</td>\n",
              "      <td>2.000000</td>\n",
              "      <td>2.000000</td>\n",
              "      <td>1.000000</td>\n",
              "      <td>102.000000</td>\n",
              "      <td>59.000000</td>\n",
              "      <td>3.900000</td>\n",
              "      <td>61.852273</td>\n",
              "      <td>1.000000</td>\n",
              "    </tr>\n",
              "    <tr>\n",
              "      <th>75%</th>\n",
              "      <td>2.000000</td>\n",
              "      <td>50.000000</td>\n",
              "      <td>1.000000</td>\n",
              "      <td>2.000000</td>\n",
              "      <td>2.000000</td>\n",
              "      <td>2.000000</td>\n",
              "      <td>2.000000</td>\n",
              "      <td>2.000000</td>\n",
              "      <td>2.000000</td>\n",
              "      <td>2.000000</td>\n",
              "      <td>2.000000</td>\n",
              "      <td>2.000000</td>\n",
              "      <td>2.000000</td>\n",
              "      <td>2.000000</td>\n",
              "      <td>1.500000</td>\n",
              "      <td>119.500000</td>\n",
              "      <td>99.000000</td>\n",
              "      <td>4.200000</td>\n",
              "      <td>65.000000</td>\n",
              "      <td>2.000000</td>\n",
              "    </tr>\n",
              "    <tr>\n",
              "      <th>max</th>\n",
              "      <td>2.000000</td>\n",
              "      <td>78.000000</td>\n",
              "      <td>2.000000</td>\n",
              "      <td>2.000000</td>\n",
              "      <td>2.000000</td>\n",
              "      <td>2.000000</td>\n",
              "      <td>2.000000</td>\n",
              "      <td>2.000000</td>\n",
              "      <td>2.000000</td>\n",
              "      <td>2.000000</td>\n",
              "      <td>2.000000</td>\n",
              "      <td>2.000000</td>\n",
              "      <td>2.000000</td>\n",
              "      <td>2.000000</td>\n",
              "      <td>8.000000</td>\n",
              "      <td>295.000000</td>\n",
              "      <td>648.000000</td>\n",
              "      <td>6.400000</td>\n",
              "      <td>100.000000</td>\n",
              "      <td>2.000000</td>\n",
              "    </tr>\n",
              "  </tbody>\n",
              "</table>\n",
              "</div>"
            ],
            "text/plain": [
              "            Class         Age         Sex  ...     Albumin     Protime   Histology\n",
              "count  155.000000  155.000000  155.000000  ...  155.000000  155.000000  155.000000\n",
              "mean     1.793548   41.200000    1.103226  ...    3.817266   61.852273    1.451613\n",
              "std      0.406070   12.565878    0.305240  ...    0.616750   17.193528    0.499266\n",
              "min      1.000000    7.000000    1.000000  ...    2.100000    0.000000    1.000000\n",
              "25%      2.000000   32.000000    1.000000  ...    3.500000   57.000000    1.000000\n",
              "50%      2.000000   39.000000    1.000000  ...    3.900000   61.852273    1.000000\n",
              "75%      2.000000   50.000000    1.000000  ...    4.200000   65.000000    2.000000\n",
              "max      2.000000   78.000000    2.000000  ...    6.400000  100.000000    2.000000\n",
              "\n",
              "[8 rows x 20 columns]"
            ]
          },
          "metadata": {
            "tags": []
          },
          "execution_count": 108
        }
      ]
    },
    {
      "cell_type": "markdown",
      "metadata": {
        "id": "7nkVCjo2aKrY",
        "colab_type": "text"
      },
      "source": [
        "### Tratamento da Class que será output (y)\n"
      ]
    },
    {
      "cell_type": "code",
      "metadata": {
        "id": "ydfc3ShaaopG",
        "colab_type": "code",
        "colab": {
          "base_uri": "https://localhost:8080/",
          "height": 221
        },
        "outputId": "5365b87a-b4ce-4f1a-b87a-298409d10703"
      },
      "source": [
        "df[\"Class\"] = df[\"Class\"].replace(to_replace=1, value=0)\n",
        "df[\"Class\"] = df[\"Class\"].replace(to_replace=2, value=1)\n",
        "df[\"Class\"]"
      ],
      "execution_count": null,
      "outputs": [
        {
          "output_type": "execute_result",
          "data": {
            "text/plain": [
              "0      1\n",
              "1      1\n",
              "2      1\n",
              "3      1\n",
              "4      1\n",
              "      ..\n",
              "150    0\n",
              "151    1\n",
              "152    1\n",
              "153    1\n",
              "154    0\n",
              "Name: Class, Length: 155, dtype: int64"
            ]
          },
          "metadata": {
            "tags": []
          },
          "execution_count": 109
        }
      ]
    },
    {
      "cell_type": "markdown",
      "metadata": {
        "id": "ZEFq1TIVDrgm",
        "colab_type": "text"
      },
      "source": [
        "### Separação dos inputs(x) e dos outputs(y)"
      ]
    },
    {
      "cell_type": "code",
      "metadata": {
        "id": "pAoynWCDRJ3S",
        "colab_type": "code",
        "colab": {
          "base_uri": "https://localhost:8080/",
          "height": 255
        },
        "outputId": "b256423c-450f-450a-b539-b64c8f46eb11"
      },
      "source": [
        "x = df.loc[:, 'Age':]\n",
        "print(x)"
      ],
      "execution_count": null,
      "outputs": [
        {
          "output_type": "stream",
          "text": [
            "     Age  Sex   Steroid  Antivirals  ...   Sgot  Albumin    Protime  Histology\n",
            "0     30    2  1.000000           2  ...   18.0      4.0  61.852273          1\n",
            "1     50    1  1.000000           2  ...   42.0      3.5  61.852273          1\n",
            "2     78    1  2.000000           2  ...   32.0      4.0  61.852273          1\n",
            "3     31    1  1.506494           1  ...   52.0      4.0  80.000000          1\n",
            "4     34    1  2.000000           2  ...  200.0      4.0  61.852273          1\n",
            "..   ...  ...       ...         ...  ...    ...      ...        ...        ...\n",
            "150   46    1  2.000000           2  ...  242.0      3.3  50.000000          2\n",
            "151   44    1  2.000000           2  ...  142.0      4.3  61.852273          2\n",
            "152   61    1  1.000000           2  ...   20.0      4.1  61.852273          2\n",
            "153   53    2  1.000000           2  ...   19.0      4.1  48.000000          2\n",
            "154   43    1  2.000000           2  ...   19.0      3.1  42.000000          2\n",
            "\n",
            "[155 rows x 19 columns]\n"
          ],
          "name": "stdout"
        }
      ]
    },
    {
      "cell_type": "code",
      "metadata": {
        "id": "25MiAZsdD5jB",
        "colab_type": "code",
        "colab": {
          "base_uri": "https://localhost:8080/",
          "height": 221
        },
        "outputId": "0764be6b-ed90-4f38-c6bd-1199ddadf9dc"
      },
      "source": [
        "y = df.loc[:,'Class']\n",
        "print(y)"
      ],
      "execution_count": null,
      "outputs": [
        {
          "output_type": "stream",
          "text": [
            "0      1\n",
            "1      1\n",
            "2      1\n",
            "3      1\n",
            "4      1\n",
            "      ..\n",
            "150    0\n",
            "151    1\n",
            "152    1\n",
            "153    1\n",
            "154    0\n",
            "Name: Class, Length: 155, dtype: int64\n"
          ],
          "name": "stdout"
        }
      ]
    },
    {
      "cell_type": "markdown",
      "metadata": {
        "id": "dM4Q4_UxRW0p",
        "colab_type": "text"
      },
      "source": [
        "## 2. Aprendizado de Máquina"
      ]
    },
    {
      "cell_type": "code",
      "metadata": {
        "id": "u-gU3ZXpSLuV",
        "colab_type": "code",
        "colab": {}
      },
      "source": [
        "import keras\n",
        "from keras.models import Sequential\n",
        "from keras.layers import Dense\n",
        "from keras.layers import Dropout"
      ],
      "execution_count": null,
      "outputs": []
    },
    {
      "cell_type": "code",
      "metadata": {
        "id": "YRXfyBDrSXnv",
        "colab_type": "code",
        "colab": {}
      },
      "source": [
        "model = Sequential()\n",
        "\n",
        "model.add(Dense(units=10, activation= 'relu', kernel_initializer='random_uniform', input_dim = 19))\n",
        "model.add(Dropout(0.25))   \n",
        "model.add(Dense(units=10, activation= 'relu', kernel_initializer='random_uniform'))  \n",
        "model.add(Dense(units=1, activation= 'sigmoid'))"
      ],
      "execution_count": null,
      "outputs": []
    },
    {
      "cell_type": "code",
      "metadata": {
        "id": "KwmVFhQFTcMu",
        "colab_type": "code",
        "colab": {}
      },
      "source": [
        "model.compile(optimizer= 'adam', loss='binary_crossentropy',\n",
        "                      metrics = ['accuracy'])\n",
        "h = model.fit(x, y, validation_split=0.33, batch_size=10, epochs=150, verbose=0)"
      ],
      "execution_count": null,
      "outputs": []
    },
    {
      "cell_type": "markdown",
      "metadata": {
        "id": "rn3WYbcDRb4Q",
        "colab_type": "text"
      },
      "source": [
        "## Análise dos resultados"
      ]
    },
    {
      "cell_type": "code",
      "metadata": {
        "id": "bXJWlztFTx7T",
        "colab_type": "code",
        "colab": {
          "base_uri": "https://localhost:8080/",
          "height": 34
        },
        "outputId": "87b16242-4ca2-4b75-fb18-cf1f8b63ba7c"
      },
      "source": [
        "print(h.history.keys())"
      ],
      "execution_count": null,
      "outputs": [
        {
          "output_type": "stream",
          "text": [
            "dict_keys(['val_loss', 'val_accuracy', 'loss', 'accuracy'])\n"
          ],
          "name": "stdout"
        }
      ]
    },
    {
      "cell_type": "code",
      "metadata": {
        "id": "k4NfaIOoWdnK",
        "colab_type": "code",
        "colab": {}
      },
      "source": [
        "import matplotlib.pyplot as plt"
      ],
      "execution_count": null,
      "outputs": []
    },
    {
      "cell_type": "markdown",
      "metadata": {
        "id": "HAfnz8SaXQcj",
        "colab_type": "text"
      },
      "source": [
        "### Acurácia do modelo"
      ]
    },
    {
      "cell_type": "code",
      "metadata": {
        "id": "m3SrSYy6XU7e",
        "colab_type": "code",
        "colab": {
          "base_uri": "https://localhost:8080/",
          "height": 296
        },
        "outputId": "8ffb49c5-0476-48b6-d282-e46dc31a14de"
      },
      "source": [
        "plt.plot(h.history['accuracy'])\n",
        "plt.plot(h.history['val_accuracy'])\n",
        "plt.title('Acurácia do modelo')\n",
        "plt.ylabel('acurácia')\n",
        "plt.xlabel('época')\n",
        "plt.legend(['Treino', 'Teste'], loc='lower right')\n",
        "plt.show()"
      ],
      "execution_count": null,
      "outputs": [
        {
          "output_type": "display_data",
          "data": {
            "image/png": "[encoded data removed]",
            "text/plain": [
              "<Figure size 432x288 with 1 Axes>"
            ]
          },
          "metadata": {
            "tags": [],
            "needs_background": "light"
          }
        }
      ]
    },
    {
      "cell_type": "markdown",
      "metadata": {
        "id": "dQJh07FjXtsC",
        "colab_type": "text"
      },
      "source": [
        "## Perda do modelo"
      ]
    },
    {
      "cell_type": "code",
      "metadata": {
        "id": "hDGq8AXbX9X1",
        "colab_type": "code",
        "colab": {
          "base_uri": "https://localhost:8080/",
          "height": 296
        },
        "outputId": "7aa6fcba-d986-47c5-9a29-8809de227c26"
      },
      "source": [
        "plt.plot(h.history['loss'])\n",
        "plt.plot(h.history['val_loss'])\n",
        "plt.title('Perda do modelo')\n",
        "plt.ylabel('perda')\n",
        "plt.xlabel('época')\n",
        "plt.legend(['train', 'test'], loc='lower right')\n",
        "plt.show()"
      ],
      "execution_count": null,
      "outputs": [
        {
          "output_type": "display_data",
          "data": {
            "image/png": "[encoded data removed]",
            "text/plain": [
              "<Figure size 432x288 with 1 Axes>"
            ]
          },
          "metadata": {
            "tags": [],
            "needs_background": "light"
          }
        }
      ]
    }
  ]
}